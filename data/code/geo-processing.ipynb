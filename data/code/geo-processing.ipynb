{
 "cells": [
  {
   "cell_type": "markdown",
   "id": "17b40daf",
   "metadata": {},
   "source": [
    "This script creates geojson filles.\n",
    "\n",
    "Data was originally downloaded from the\n",
    "Humanitarian Data Exchange / UN Office for \n",
    "the Coordination of Humanitarian Affairs.\n",
    "\n",
    "They were processed to be in the format\n",
    "needed for the application to run.\n",
    "\n",
    "The file dids not originally include the\n",
    "'Zona en Reclamación'.\n",
    "\n",
    "https://data.humdata.org/dataset/cod-ab-ven0\n",
    "\n"
   ]
  },
  {
   "cell_type": "code",
   "execution_count": 1,
   "id": "91307021",
   "metadata": {},
   "outputs": [],
   "source": [
    "import geopandas as gpd\n",
    "import pandas as pd\n",
    "from shapely.wkt import loads\n",
    "import re"
   ]
  },
  {
   "cell_type": "markdown",
   "id": "47f44f1a",
   "metadata": {},
   "source": [
    "#### Helpers for smart rounding"
   ]
  },
  {
   "cell_type": "code",
   "execution_count": 11,
   "id": "2c0a166d",
   "metadata": {},
   "outputs": [],
   "source": [
    "simpledec = re.compile(r\"\\d*\\.\\d+\")\n",
    "def mround(match):\n",
    "    return \"{:.6f}\".format(float(match.group()))"
   ]
  },
  {
   "cell_type": "markdown",
   "id": "e7ba8253",
   "metadata": {},
   "source": [
    "#### Geographic file processing"
   ]
  },
  {
   "cell_type": "markdown",
   "id": "786a57d1",
   "metadata": {},
   "source": [
    "Converts province data to GeoJSON."
   ]
  },
  {
   "cell_type": "code",
   "execution_count": 12,
   "id": "06fdbff9",
   "metadata": {},
   "outputs": [],
   "source": [
    "provincias = gpd.read_file(\"../input/provincias.zip\")\n",
    "provincias = provincias[['ADM1_ES', 'ADM1_PCODE', 'geometry']]\n",
    "provincias = provincias.rename(columns={'ADM1_ES': 'name', 'ADM1_PCODE': 'code'})\n",
    "provincias.loc[24, 'code'] = 'VE99' # Code for Federal Dependencies was nan\n",
    "provincias['geometry'] = provincias.geometry.apply(lambda x: loads(re.sub(simpledec, mround, x.wkt)))\n",
    "provincias.to_file(\"../output/level-1.geojson\", driver=\"GeoJSON\")"
   ]
  },
  {
   "cell_type": "markdown",
   "id": "04fde603",
   "metadata": {},
   "source": [
    "The second level of the data visualization will include the 'municipios' division for all the states plus the 'paroquias' for Vargas and Distrito Capital. We will combine them into a single file"
   ]
  },
  {
   "cell_type": "code",
   "execution_count": 13,
   "id": "6efcbf36",
   "metadata": {},
   "outputs": [],
   "source": [
    "municipios = gpd.read_file(\"../input/municipios.zip\")"
   ]
  },
  {
   "cell_type": "code",
   "execution_count": 14,
   "id": "f392cf95",
   "metadata": {},
   "outputs": [],
   "source": [
    "paroquias = gpd.read_file(\"../input/paroquias.zip\")"
   ]
  },
  {
   "cell_type": "code",
   "execution_count": 15,
   "id": "0bc01469",
   "metadata": {
    "scrolled": false
   },
   "outputs": [],
   "source": [
    "# All municipios but Libertador (Distrito Capital) and Vargas (La Guaira)\n",
    "municipios = municipios[~municipios.ADM1_PCODE.isin(['VE01', 'VE24'])]\n",
    "municipios = municipios[['ADM1_PCODE', 'ADM1_ES', 'ADM2_PCODE', 'ADM2_ES', 'geometry']]\n",
    "municipios = municipios.rename(columns={\n",
    "                                        'ADM1_ES': 'parent_name', \n",
    "                                        'ADM1_PCODE': 'parent_code',\n",
    "                                        'ADM2_ES': 'name', \n",
    "                                        'ADM2_PCODE': 'code'})"
   ]
  },
  {
   "cell_type": "code",
   "execution_count": 16,
   "id": "28346103",
   "metadata": {},
   "outputs": [],
   "source": [
    "paroquias = paroquias[paroquias.ADM1_PCODE.isin(['VE01', 'VE24'])] # Paroquias in Libertador and Vargas\n",
    "paroquias = paroquias[['ADM1_PCODE', 'ADM1_ES', 'ADM3_PCODE', 'ADM3_ES', 'geometry']]\n",
    "paroquias = paroquias.rename(columns={\n",
    "                                      'ADM1_ES': 'parent_name', \n",
    "                                      'ADM1_PCODE': 'parent_code',\n",
    "                                      'ADM3_ES': 'name', \n",
    "                                      'ADM3_PCODE': 'code'\n",
    "})\n"
   ]
  },
  {
   "cell_type": "code",
   "execution_count": 17,
   "id": "07859034",
   "metadata": {},
   "outputs": [],
   "source": [
    "level_2 = pd.concat([municipios, paroquias]).sort_values(by='parent_name')"
   ]
  },
  {
   "cell_type": "code",
   "execution_count": 18,
   "id": "63077f10",
   "metadata": {},
   "outputs": [],
   "source": [
    "level_2['geometry'] = level_2.geometry.apply(lambda x: loads(re.sub(simpledec, mround, x.wkt)))\n"
   ]
  },
  {
   "cell_type": "code",
   "execution_count": 19,
   "id": "2e8838e3",
   "metadata": {},
   "outputs": [],
   "source": [
    "level_2.to_file(\"../output/level-2.geojson\", driver=\"GeoJSON\")"
   ]
  },
  {
   "cell_type": "code",
   "execution_count": null,
   "id": "732ed3ee",
   "metadata": {},
   "outputs": [],
   "source": []
  },
  {
   "cell_type": "code",
   "execution_count": null,
   "id": "fc8ae8cc",
   "metadata": {},
   "outputs": [],
   "source": []
  },
  {
   "cell_type": "code",
   "execution_count": null,
   "id": "ffec034c",
   "metadata": {},
   "outputs": [],
   "source": []
  },
  {
   "cell_type": "code",
   "execution_count": null,
   "id": "c189240b",
   "metadata": {},
   "outputs": [],
   "source": []
  }
 ],
 "metadata": {
  "kernelspec": {
   "display_name": "Python 3 (ipykernel)",
   "language": "python",
   "name": "python3"
  },
  "language_info": {
   "codemirror_mode": {
    "name": "ipython",
    "version": 3
   },
   "file_extension": ".py",
   "mimetype": "text/x-python",
   "name": "python",
   "nbconvert_exporter": "python",
   "pygments_lexer": "ipython3",
   "version": "3.9.16"
  }
 },
 "nbformat": 4,
 "nbformat_minor": 5
}
