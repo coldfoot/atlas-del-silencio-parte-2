{
 "cells": [
  {
   "cell_type": "markdown",
   "id": "4b47449c",
   "metadata": {},
   "source": [
    "This script creates geojson filles.\n",
    "\n",
    "Data was originally downloaded from the\n",
    "Humanitarian Data Exchange / UN Office for \n",
    "the Coordination of Humanitarian Affairs.\n",
    "\n",
    "They were processed to be in the format\n",
    "needed for the application to run.\n",
    "\n",
    "The file dids not originally include the\n",
    "'Zona en Reclamación'.\n",
    "\n",
    "https://data.humdata.org/dataset/cod-ab-ven0\n",
    "\n"
   ]
  },
  {
   "cell_type": "code",
   "execution_count": 33,
   "id": "91307021",
   "metadata": {},
   "outputs": [],
   "source": [
    "import geopandas as gpd\n",
    "import pandas as pd"
   ]
  },
  {
   "cell_type": "markdown",
   "id": "7456d451",
   "metadata": {},
   "source": [
    "Converts province data to GeoJSON."
   ]
  },
  {
   "cell_type": "code",
   "execution_count": 5,
   "id": "06fdbff9",
   "metadata": {},
   "outputs": [],
   "source": [
    "provincias = gpd.read_file(\"../input/provincias.zip\")\n",
    "provincias = provincias[['ADM1_ES', 'ADM1_PCODE', 'geometry']]\n",
    "provincias = provincias.rename(columns={'ADM1_ES': 'name', 'ADM1_PCODE': 'code'})\n",
    "provincias.loc[24, 'code'] = 'VE99' # Code for Federal Dependencies was nan\n",
    "\n",
    "provincias.to_file(\"../output/level-1.geojson\", driver=\"GeoJSON\")"
   ]
  },
  {
   "cell_type": "markdown",
   "id": "c40b0f83",
   "metadata": {},
   "source": [
    "The second level of the data visualization will include the 'municipios' division for all the states plus the 'paroquias' for Vargas and Distrito Capital. We will combine them into a single file"
   ]
  },
  {
   "cell_type": "code",
   "execution_count": 61,
   "id": "6efcbf36",
   "metadata": {},
   "outputs": [],
   "source": [
    "municipios = gpd.read_file(\"../input/municipios.zip\")"
   ]
  },
  {
   "cell_type": "code",
   "execution_count": 62,
   "id": "4898e35e",
   "metadata": {},
   "outputs": [],
   "source": [
    "paroquias = gpd.read_file(\"../input/paroquias.zip\")"
   ]
  },
  {
   "cell_type": "code",
   "execution_count": 63,
   "id": "0bc01469",
   "metadata": {
    "scrolled": false
   },
   "outputs": [],
   "source": [
    "# All municipios but Libertador (Distrito Capital) and Vargas (La Guaira)\n",
    "municipios = municipios[~municipios.ADM1_PCODE.isin(['VE01', 'VE24'])]\n",
    "municipios = municipios[['ADM2_PCODE', 'ADM2_ES', 'geometry']]\n",
    "municipios = municipios.rename(columns={'ADM2_ES': 'name', 'ADM2_PCODE': 'code'})"
   ]
  },
  {
   "cell_type": "code",
   "execution_count": 64,
   "id": "28346103",
   "metadata": {},
   "outputs": [],
   "source": [
    "paroquias = paroquias[paroquias.ADM1_PCODE.isin(['VE01', 'VE24'])] # Paroquias in Libertador and Vargas\n",
    "paroquias = paroquias[['ADM3_PCODE', 'ADM3_ES', 'geometry']]\n",
    "paroquias = paroquias.rename(columns={'ADM3_ES': 'name', 'ADM3_PCODE': 'code'})\n"
   ]
  },
  {
   "cell_type": "code",
   "execution_count": 69,
   "id": "07859034",
   "metadata": {},
   "outputs": [],
   "source": [
    "level_2 = pd.concat([municipios, paroquias])"
   ]
  },
  {
   "cell_type": "code",
   "execution_count": 70,
   "id": "2e8838e3",
   "metadata": {},
   "outputs": [],
   "source": [
    "level_2.to_file(\"../output/level-2.geojson\", driver=\"GeoJSON\")"
   ]
  },
  {
   "cell_type": "markdown",
   "id": "e582d1d1",
   "metadata": {},
   "source": [
    "The following file has the names used by IPYS in their data collection process. We will join them with the code system we are using for the files."
   ]
  },
  {
   "cell_type": "code",
   "execution_count": 75,
   "id": "2bf4204b",
   "metadata": {},
   "outputs": [],
   "source": [
    "ipys_names = pd.read_csv(\"../input/code-correspondence.csv\")"
   ]
  },
  {
   "cell_type": "code",
   "execution_count": null,
   "id": "0d3158de",
   "metadata": {},
   "outputs": [],
   "source": []
  }
 ],
 "metadata": {
  "kernelspec": {
   "display_name": "Python 3 (ipykernel)",
   "language": "python",
   "name": "python3"
  },
  "language_info": {
   "codemirror_mode": {
    "name": "ipython",
    "version": 3
   },
   "file_extension": ".py",
   "mimetype": "text/x-python",
   "name": "python",
   "nbconvert_exporter": "python",
   "pygments_lexer": "ipython3",
   "version": "3.9.16"
  }
 },
 "nbformat": 4,
 "nbformat_minor": 5
}
