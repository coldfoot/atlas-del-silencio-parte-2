{
 "cells": [
  {
   "cell_type": "code",
   "execution_count": 1,
   "id": "309df7f2",
   "metadata": {},
   "outputs": [
    {
     "data": {
      "text/plain": [
       "'This script prepares the data to create a bubble map that shows \\nthe change in people living in deserts between 2020 and 2022'"
      ]
     },
     "execution_count": 1,
     "metadata": {},
     "output_type": "execute_result"
    }
   ],
   "source": [
    "'''This script prepares the data to create a bubble map that shows \n",
    "the change in people living in deserts between 2020 and 2022'''"
   ]
  },
  {
   "cell_type": "code",
   "execution_count": 2,
   "id": "d7efaba0",
   "metadata": {},
   "outputs": [],
   "source": [
    "import geopandas as gpd\n",
    "import pandas as pd"
   ]
  },
  {
   "cell_type": "code",
   "execution_count": 3,
   "id": "5b93c24b",
   "metadata": {},
   "outputs": [],
   "source": [
    "# 2022 data\n",
    "gdf_2022 = gpd.read_file(\"../output/finished-geojsons/level_2_results.geojson\")\n",
    "gdf_2022['category'] = gdf_2022.category.str.replace(\"Desierto Moderado\", \"Desierto moderado\")"
   ]
  },
  {
   "cell_type": "code",
   "execution_count": 4,
   "id": "07cb7eb1",
   "metadata": {},
   "outputs": [],
   "source": [
    "def prepare_2020_data():\n",
    "    \n",
    "    level_2 = gpd.read_file(\"../output/finished-geojsons/level_2_results.geojson\")\n",
    "    level_2 = level_2[[\"parent_name\", \"name\", \"code\", \"parent_code\", \"geometry\"]]\n",
    "    \n",
    "    classification_2020 = pd.read_csv(\"../input/datos-ipys-2020.csv\")\n",
    "    pop_2020 = pd.read_csv(\"../input/poblacion-cidade-2020.csv\", sep=\"|\")\n",
    "    \n",
    "    classification_2020 = classification_2020[['Estado', 'Municipio', 'Tipo Desierto 2020']]\n",
    "    pop_2020 = pop_2020[['Estado', 'Municipio', 'población 2020']]\n",
    "\n",
    "    df_2020 = pop_2020.merge(classification_2020)\n",
    "    \n",
    "    # Manually renames some of the cities in 2020 to match the 2022 names\n",
    "    df_2020.loc[21, 'Municipio'] = \"Carvajal (Valle de Guanape)\"\n",
    "    df_2020.loc[25, 'Municipio'] = \"Santa Ana\"\n",
    "    df_2020.loc[61, \"Municipio\"] = \"Obispos\"\n",
    "    df_2020.loc[70, \"Municipio\"] = \"Caroní (Ciudad Guayana)\"\n",
    "    df_2020.loc[71, \"Municipio\"] = \"Padre Pedro Chien (El Palmar)\"\n",
    "    df_2020.loc[118, \"Municipio\"] = \"Palmasola\"\n",
    "    df_2020.loc[152, \"Municipio\"] = \"Alberto Adriani (El Vigía)\"\n",
    "    df_2020.loc[154, \"Municipio\"] = \"Aricagua\"\n",
    "    df_2020.loc[166, \"Municipio\"] = \"Antonio Pinto Salinas (Santa Cruz de Mora)\"\n",
    "    df_2020.loc[167, \"Municipio\"] = \"Pueblo Llano\"\n",
    "\n",
    "        \n",
    "    # Merges all – the only missing ones will be the Distrito Capital and Vargas entries, which did not exist in 2020\n",
    "    gdf_2020 = level_2.merge(df_2020, left_on=['parent_name', 'name'], right_on=['Estado', 'Municipio'])\n",
    "    \n",
    "    \n",
    "    # We will create new data entries for DC and Vargas, based on the centroids of the states\n",
    "    # They will represent the cities of Libertador and La Guaira instead of parroquia\n",
    "    \n",
    "\n",
    "    level_1 = gpd.read_file(\"../output/finished-geojsons/level_1_results.geojson\")\n",
    "    level_1 = level_1[['name', 'geometry']]\n",
    "    level_1 = level_1[level_1.name.isin([\"Distrito capital\", \"Vargas\"])].reset_index()\n",
    "\n",
    "        \n",
    "    # Adds data for Libertador (DC) and La Guaira (Vargas)\n",
    "    gdf_2020 = gdf_2020.append(pop_2020.loc[[333, 334]])\n",
    "    gdf_2020.loc[ [333, 334], 'Tipo Desierto 2020' ] = 'No desierto'\n",
    "    \n",
    "    gdf_2020.loc[333, 'parent_name'] = 'Distrito capital'\n",
    "    gdf_2020.loc[334, 'parent_name'] = 'Vargas'\n",
    "    \n",
    "    gdf_2020.loc[333, 'parent_code'] = 'VE01'\n",
    "    gdf_2020.loc[334, 'parent_code'] = 'VE24'\n",
    "    \n",
    "    gdf_2020.loc[333, 'name'] = 'Libertador'\n",
    "    gdf_2020.loc[334, 'name'] = 'Vargas (La Guaira)'\n",
    "    \n",
    "    gdf_2020.loc[333, 'code'] = 'VE01XX'\n",
    "    gdf_2020.loc[334, 'code'] = 'VE24XX'\n",
    "    \n",
    "    gdf_2020.loc[333, 'población 2020'] = 2090479\n",
    "    gdf_2020.loc[334, 'población 2020'] = 382123\n",
    "    \n",
    "    gdf_2020.loc[333, 'geometry'] = level_1.loc[0, 'geometry']\n",
    "    gdf_2020.loc[334, 'geometry'] = level_1.loc[1, 'geometry']\n",
    "    \n",
    "    \n",
    "    # Formats\n",
    "    gdf_2020 = gdf_2020.rename(columns={\"población 2020\": \"population\", \"Tipo Desierto 2020\": \"category\"})\n",
    "    gdf_2020 = gdf_2020[['parent_name', 'name', 'code', 'parent_code', 'geometry', 'category', 'population']]\n",
    "    return gdf_2020\n",
    "\n"
   ]
  },
  {
   "cell_type": "code",
   "execution_count": 6,
   "id": "1ee2a2df",
   "metadata": {},
   "outputs": [
    {
     "name": "stderr",
     "output_type": "stream",
     "text": [
      "/var/folders/52/vy6xx2q911l7rd368b7ngb8w0000gn/T/ipykernel_8954/4230882905.py:41: FutureWarning: The frame.append method is deprecated and will be removed from pandas in a future version. Use pandas.concat instead.\n",
      "  gdf_2020 = gdf_2020.append(pop_2020.loc[[333, 334]])\n",
      "/Users/menegat/opt/anaconda3/envs/atlas-del-silencio/lib/python3.9/site-packages/geopandas/array.py:1406: UserWarning: CRS not set for some of the concatenation inputs. Setting output's CRS as WGS 84 (the single non-null crs provided).\n",
      "  warnings.warn(\n"
     ]
    }
   ],
   "source": [
    "gdf_2020 = prepare_2020_data()"
   ]
  },
  {
   "cell_type": "code",
   "execution_count": 7,
   "id": "7bb7a3a0",
   "metadata": {},
   "outputs": [],
   "source": [
    "gdf_2020.to_file(\"map/2020.geojson\", driver='GeoJSON')\n",
    "gdf_2022.to_file(\"map/2022.geojson\", driver='GeoJSON')"
   ]
  },
  {
   "cell_type": "code",
   "execution_count": null,
   "id": "5162149d",
   "metadata": {},
   "outputs": [],
   "source": [
    "gdf_2022.category.unique()"
   ]
  },
  {
   "cell_type": "code",
   "execution_count": null,
   "id": "f188960e",
   "metadata": {},
   "outputs": [],
   "source": [
    "df_2020[~df_2020.Municipio.isin(gdf_2020.Municipio)]\n",
    "\n"
   ]
  },
  {
   "cell_type": "code",
   "execution_count": null,
   "id": "e354827a",
   "metadata": {},
   "outputs": [],
   "source": [
    "df_2020.loc[21, 'Municipio'] = \"Carvajal (Valle de Guanape)\"\n",
    "df_2020.loc[25, 'Municipio'] = \"Santa Ana\"\n",
    "df_2020.loc[61, \"Municipio\"] = \"Obispos\"\n",
    "df_2020.loc[70, \"Municipio\"] = \"Caroní (Ciudad Guayana)\"\n",
    "df_2020.loc[118, \"Municipio\"] = \"Palmasola\"\n",
    "df_2020.loc[152, \"Municipio\"] = \"Alberto Adriani (El Vigía)\"\n",
    "df_2020.loc[154, \"Municipio\"] = \"Aricagua\"\n",
    "df_2020.loc[166, \"Municipio\"] = \"Antonio Pinto Salinas (Santa Cruz de Mora)\"\n",
    "df_2020.loc[167, \"Municipio\"] = \"Pueblo Llano\"\n",
    "\n",
    "\n",
    "\n",
    "\n"
   ]
  },
  {
   "cell_type": "code",
   "execution_count": null,
   "id": "b9dac434",
   "metadata": {},
   "outputs": [],
   "source": [
    "gdf_2020.to_json()"
   ]
  },
  {
   "cell_type": "code",
   "execution_count": null,
   "id": "72d3c97d",
   "metadata": {},
   "outputs": [],
   "source": []
  }
 ],
 "metadata": {
  "kernelspec": {
   "display_name": "Python 3 (ipykernel)",
   "language": "python",
   "name": "python3"
  },
  "language_info": {
   "codemirror_mode": {
    "name": "ipython",
    "version": 3
   },
   "file_extension": ".py",
   "mimetype": "text/x-python",
   "name": "python",
   "nbconvert_exporter": "python",
   "pygments_lexer": "ipython3",
   "version": "3.9.16"
  }
 },
 "nbformat": 4,
 "nbformat_minor": 5
}
